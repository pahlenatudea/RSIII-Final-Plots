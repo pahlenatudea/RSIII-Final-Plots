{
 "cells": [
  {
   "cell_type": "markdown",
   "metadata": {},
   "source": [
    "# STU Analysis\n",
    "\n",
    "#### final fig for arXiv:160501129"
   ]
  },
  {
   "cell_type": "code",
   "execution_count": 1,
   "metadata": {},
   "outputs": [
    {
     "name": "stdout",
     "output_type": "stream",
     "text": [
      "Populating the interactive namespace from numpy and matplotlib\n"
     ]
    }
   ],
   "source": [
    "%pylab inline\n",
    "from IPython.display import display, Math, Latex\n",
    "import pandas as pd\n",
    "import os, sys, inspect\n",
    "plt.rcParams[\"text.usetex\"] = True\n",
    "plt.rcParams['text.latex.preamble']=plt.rcParams['text.latex.preamble']+\\\n",
    "                                    [r\"\\usepackage{siunitx}\",\\\n",
    "                                     r\"\\usepackage{amsmath}\",\\\n",
    "                                     r\"\\usepackage{amssymb}\",\\\n",
    "                                     r\"\\usepackage{cancel}\",\\\n",
    "                                     r\"\\usepackage{slashed}\"]\n",
    "plt.rcParams['font.family']='serif'\n",
    "plt.rcParams['font.serif']=['serif','Times New Roman','Times']\n",
    "\n",
    "import datetime"
   ]
  },
  {
   "cell_type": "code",
   "execution_count": 2,
   "metadata": {
    "collapsed": true
   },
   "outputs": [],
   "source": [
    "columns3=['Omega' ,'Xf' ,'sigmav' ,\\\n",
    "'sigmav_%bbar' ,'Width_h' ,'Brh_inv_H0H0' , \\\n",
    "'Brh_inv_A0A0' ,'Width_HP' ,'Width_AO' ,\\\n",
    "'PSI' ,'NSI' ,'Brh_gluon_gluon' ,\\\n",
    "'Brh_gamma_gamma' ,\\\n",
    "'MH0' ,'MA0' ,'MH1' ,'MH' ,\\\n",
    "'la2' ,'laL' ,\\\n",
    "'la1' ,'la2' ,'la3' ,'la4' ,\\\n",
    "'la5' ,'mu2' ,'e1' ,'e2' ,'e3' ,'e4' ,\\\n",
    "'e5' ,'e6' ,'e7' ,'e8' ,'e9' , \\\n",
    "'e10' ,'e11' ,'e12' ,'S' ,'T' ,'U' ,'fcl3' ,\\\n",
    "'Gamma1_th' ,'Gamma2_th' ,'BRinv_th' ,'sigmav_2012_f', 'sigmaSI_f',\\\n",
    "'sigmav_2015_f']"
   ]
  },
  {
   "cell_type": "code",
   "execution_count": 3,
   "metadata": {},
   "outputs": [],
   "source": [
    "### data for final plot\n",
    "\n",
    "c3=np.loadtxt('data_IDM/data_IDM.txt')\n",
    "cdtemp=pd.DataFrame(c3,columns=columns3)\n",
    "\n",
    "cd3=cdtemp[cdtemp['MH0']>cdtemp.MH0.min()]\n",
    "\n",
    "cdfl=cd3[cd3.MH0<80]\n",
    "cdflh1=cdfl[np.logical_and(cdfl.fcl3<0.68,cdfl.fcl3<0.68)]\n",
    "cdflh2=cdfl[np.logical_and(cdflplt.plot(z,testfun(z))\n",
    ".fcl3<0.95,cdfl.fcl3>0.68)]\n",
    "cdflh3=cdfl[np.logical_and(cdfl.fcl3<0.99,cdfl.fcl3>0.95)]"
   ]
  },
  {
   "cell_type": "markdown",
   "metadata": {},
   "source": [
    "### Compatibility with initial DataFrame colums conventions"
   ]
  },
  {
   "cell_type": "markdown",
   "metadata": {},
   "source": [
    "The code have been written in a general form compatible with either CP-odd or CP-even dark matter: \n",
    "\\begin{align}\n",
    "M_\\chi=\\operatorname{min}(M_{H^0},M_{A^0})\n",
    "\\end{align}\n",
    "and checked against the original set of data where the DM was either $M_{H^0}$ or $M_{A^0}$."
   ]
  },
  {
   "cell_type": "markdown",
   "metadata": {},
   "source": [
    "## Final figure"
   ]
  },
  {
   "cell_type": "code",
   "execution_count": 4,
   "metadata": {},
   "outputs": [
    {
     "name": "stdout",
     "output_type": "stream",
     "text": [
      "2016-05-12 13:06:06.381588\n"
     ]
    },
    {
     "data": {
      "image/png": "[encoded data removed]",
      "text/plain": [
       "<matplotlib.figure.Figure at 0x7f1c5b94a9d0>"
      ]
     },
     "metadata": {},
     "output_type": "display_data"
    }
   ],
   "source": [
    "### final plot for draft (151005) except for figsize....\n",
    "fig, ax = plt.subplots()\n",
    "\n",
    "plt.plot(cdflh3.MH1-cdflh3.MH0,-(cdflh3.MH1-cdflh3.MA0),'r.',color='#ff0000',markersize=1.5)\n",
    "plt.plot(cdflh2.MH1-cdflh2.MH0,-(cdflh2.MH1-cdflh2.MA0),'g.',color='#ffcf00',markersize=1.5)\n",
    "plt.plot(cdflh1.MH1-cdflh1.MH0,-(cdflh1.MH1-cdflh1.MA0),'b.',color='#009900',markersize=1.5)\n",
    "\n",
    "plt.xlim(0,700)\n",
    "plt.ylim(-100,100)\n",
    "\n",
    "plt.xlabel(r'$m_{H^+}-m_{H^0}\\ $[GeV]',size=15)\n",
    "plt.ylabel(r'$m_{A^0}-m_{H^\\pm}\\ $[GeV]',size=15)\n",
    "\n",
    "verts = [(0, 0)] + [(100,-100)] + [(0, -100)]\n",
    "poly = Polygon(verts, facecolor='#bbbbbb', edgecolor='0.5')\n",
    "ax.add_patch(poly)\n",
    "plt.plot(z,testfun(z))\n",
    "\n",
    "plt.plot([0,100,200],[100,0,-100],'k:',color='#222222',lw=1)\n",
    "plt.plot([100,300],[100,-100],'k:',color='#222222',lw=1)\n",
    "plt.plot([200,400],[100,-100],'k:',color='#222222',lw=1)\n",
    "plt.plot([300,500],[100,-100],'k:',color='#222222',lw=1)\n",
    "plt.plot([400,600],[100,-100],'k:',color='#222222',lw=1)\n",
    "plt.plot([500,700],[100,-100],'k:',colplt.legend(prop={'size':12},loc=(0.7,0.92))\n",
    "\n",
    "or='#222222',lw=1)\n",
    "plt.plot([600,700],[100,0],'k:',color='#222222',lw=1)\n",
    "plt.plot([9,9,15,108],[83,33,23,-70],'w--',color='#222222',lw=1.5)\n",
    "plt.annotate('${m_{H^0}>m_{A^0}}$',fontsize=12, xy=(0, -40), xytext=(2, -40), rotation=(-53), color='black')\n",
    "\n",
    "figsize(7,3)\n",
    "\n",
    "plt.tight_layout()\n",
    "#plt.savefig('stufull_lowmass80AHc.pdf')\n",
    "print datetime.datetime.now()"
   ]
  },
  {
   "cell_type": "code",
   "execution_count": null,
   "metadata": {
    "collapsed": true
   },
   "outputs": [],
   "source": []
  }
 ],
 "metadata": {
  "kernelspec": {
   "display_name": "Python 3",
   "language": "python",
   "name": "python3"
  },
  "language_info": {
   "codemirror_mode": {
    "name": "ipython",
    "version": 3
   },
   "file_extension": ".py",
   "mimetype": "text/x-python",
   "name": "python",
   "nbconvert_exporter": "python",
   "pygments_lexer": "ipython3",
   "version": "3.6.9"
  }
 },
 "nbformat": 4,
 "nbformat_minor": 1
}
